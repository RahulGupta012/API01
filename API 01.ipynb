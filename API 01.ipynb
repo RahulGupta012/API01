{
 "cells": [
  {
   "cell_type": "markdown",
   "metadata": {},
   "source": [
    "                                            ASSIGNMENT: API 01"
   ]
  },
  {
   "cell_type": "markdown",
   "metadata": {},
   "source": [
    "Q1. What is an API? Give an example, where an API is used in real life."
   ]
  },
  {
   "cell_type": "markdown",
   "metadata": {},
   "source": [
    "API= Application Programing Interface\n",
    "\n",
    "There are multiple types of programing languages prevailing in the current world.So the various companies are using various programing languges for desing their websites. Such a situation creats the problem to communicate between the systems, which are written in different languages. So for such kind of problem, there is a solution named API. If we say in few words then we can say that APIs are used in web applications to connect user-facing front ends with critical back-end functionality and data.\n",
    "\n",
    "if we take a example of a bank and a payment app, then it should be more undertandable to us. let say that the bank has written their script in the C++ language but the payment app like google pay has written their script of program or application in Java script. If a user giving the command to payment app for sending some money to a person. Then the command always be in java script, which is unable to communicate with bank's script laguage C++. For such a situation API's are used. Even a single appliaction havn't devloped without API.\n",
    "\n",
    "\n"
   ]
  },
  {
   "cell_type": "markdown",
   "metadata": {},
   "source": [
    "~~~~~~~~~~~~~~~~~~~~~~~"
   ]
  },
  {
   "cell_type": "markdown",
   "metadata": {},
   "source": [
    "Q2. Give advantages and disadvantages of using API. "
   ]
  },
  {
   "cell_type": "markdown",
   "metadata": {},
   "source": [
    "Advantages:\n",
    "- API enable different software systems to communicate with each other, regardless of their programming language.\n",
    "- API can reusable by other which improve the work efficiency.\n",
    "\n",
    "Disadvantages:\n",
    "- API can be dengrouis for security.\n",
    "- API can complex for devlopers"
   ]
  },
  {
   "cell_type": "markdown",
   "metadata": {},
   "source": [
    "~~~~~~~~~~~~~~~~~~~~~"
   ]
  },
  {
   "cell_type": "markdown",
   "metadata": {},
   "source": [
    "Q3. What is a Web API? Differentiate between API and Web API."
   ]
  },
  {
   "cell_type": "markdown",
   "metadata": {},
   "source": [
    "API\n",
    "- API enable different software systems to communicate with each other, regardless of their programming language.\n",
    "- API is used for any style of communication.\n",
    "- APIs are not web services.\n",
    "- It provides support for the HTTP/s protocol: URL Request/Response Headers, and so on.\n",
    "- API supports XML and JSON.\n",
    "- Web API can be hosted only on IIS and self.\n",
    "\n",
    "Web API\n",
    "- Web services are a type of API, which must be accessed through a network connection.\n",
    "- All Web services are APIs.\n",
    "- It provides supports only for the HTTP protocol.\n",
    "- Web Services can be hosted on IIS"
   ]
  },
  {
   "cell_type": "markdown",
   "metadata": {},
   "source": [
    "~~~~~~~~~~~~~~~~~~~\n"
   ]
  },
  {
   "cell_type": "markdown",
   "metadata": {},
   "source": [
    "Q4. Explain REST and SOAP Architecture. Mention shortcomings of SOAP."
   ]
  },
  {
   "cell_type": "markdown",
   "metadata": {},
   "source": [
    "Below the quation no 5 has differce between the soap and rest, which helps us to understand the cocept.\n",
    "There are some shortcoming or disadvanteges of SOAP\n",
    "SOAP is more complex and stored very limited data formates, it uses more bandwidth"
   ]
  },
  {
   "cell_type": "markdown",
   "metadata": {},
   "source": [
    "~~~~~~~~~~~~~~~~~~~~"
   ]
  },
  {
   "cell_type": "markdown",
   "metadata": {},
   "source": [
    "Q5. Differentiate between REST and SOAP."
   ]
  },
  {
   "cell_type": "markdown",
   "metadata": {},
   "source": [
    "SOAP\n",
    "- Full form of SOAP = Simple Object Access Protocol\n",
    "- it works with WSDL\n",
    "- Works over HTTP, HTTPS, SMTP, XMPP\n",
    "- Highly structured\n",
    "- Made for large application\n",
    "\n",
    "REST\n",
    "- Full form of Representational State Transfer\n",
    "- Generally transports data in JSON\n",
    "- It works with GET, POST, PUT, DELETE\n",
    "- Works over HTTP and HTTPS\n",
    "- Less structured\n",
    "- made for mobile applications."
   ]
  },
  {
   "cell_type": "markdown",
   "metadata": {},
   "source": []
  }
 ],
 "metadata": {
  "kernelspec": {
   "display_name": "Python 3",
   "language": "python",
   "name": "python3"
  },
  "language_info": {
   "name": "python",
   "version": "3.11.4"
  },
  "orig_nbformat": 4
 },
 "nbformat": 4,
 "nbformat_minor": 2
}
